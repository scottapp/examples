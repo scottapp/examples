{
 "cells": [
  {
   "cell_type": "markdown",
   "id": "482ea550-569f-4c2d-a4d8-25ad545a0db4",
   "metadata": {},
   "source": [
    "# Map of Tokyo With Yamanote Line Stations"
   ]
  },
  {
   "cell_type": "code",
   "execution_count": 1,
   "id": "eb4f75ed-ff55-4a9a-b7fa-226632d8bbad",
   "metadata": {},
   "outputs": [],
   "source": [
    "import pandas as pd"
   ]
  },
  {
   "cell_type": "code",
   "execution_count": 2,
   "id": "0addca28-0d06-480a-9223-938cadb7cac7",
   "metadata": {},
   "outputs": [
    {
     "name": "stdout",
     "output_type": "stream",
     "text": [
      "Collecting folium\n",
      "  Downloading folium-0.12.1.post1-py2.py3-none-any.whl (95 kB)\n",
      "\u001B[2K     \u001B[90m━━━━━━━━━━━━━━━━━━━━━━━━━━━━━━━━━━━━━━━\u001B[0m \u001B[32m95.0/95.0 KB\u001B[0m \u001B[31m987.8 kB/s\u001B[0m eta \u001B[36m0:00:00\u001B[0ma \u001B[36m0:00:01\u001B[0m\n",
      "\u001B[?25hCollecting branca>=0.3.0\n",
      "  Downloading branca-0.5.0-py3-none-any.whl (24 kB)\n",
      "Requirement already satisfied: requests in /opt/conda/lib/python3.9/site-packages (from folium) (2.27.1)\n",
      "Requirement already satisfied: jinja2>=2.9 in /opt/conda/lib/python3.9/site-packages (from folium) (3.1.2)\n",
      "Requirement already satisfied: numpy in /opt/conda/lib/python3.9/site-packages (from folium) (1.19.5)\n",
      "Requirement already satisfied: MarkupSafe>=2.0 in /opt/conda/lib/python3.9/site-packages (from jinja2>=2.9->folium) (2.1.1)\n",
      "Requirement already satisfied: certifi>=2017.4.17 in /opt/conda/lib/python3.9/site-packages (from requests->folium) (2021.10.8)\n",
      "Requirement already satisfied: idna<4,>=2.5 in /opt/conda/lib/python3.9/site-packages (from requests->folium) (3.3)\n",
      "Requirement already satisfied: charset-normalizer~=2.0.0 in /opt/conda/lib/python3.9/site-packages (from requests->folium) (2.0.12)\n",
      "Requirement already satisfied: urllib3<1.27,>=1.21.1 in /opt/conda/lib/python3.9/site-packages (from requests->folium) (1.26.9)\n",
      "Installing collected packages: branca, folium\n",
      "Successfully installed branca-0.5.0 folium-0.12.1.post1\n"
     ]
    }
   ],
   "source": [
    "!pip install folium"
   ]
  },
  {
   "cell_type": "code",
   "execution_count": 3,
   "id": "d0717f51-5848-4a98-8df3-3c1fee40a001",
   "metadata": {},
   "outputs": [],
   "source": [
    "import folium"
   ]
  },
  {
   "cell_type": "code",
   "execution_count": 4,
   "id": "c2bd2d67-ef94-4f5d-b370-5cc0dc77bd5c",
   "metadata": {},
   "outputs": [],
   "source": [
    "def get_tokyo_wards_map_cartodb(df):\n",
    "    geojson_path = '../data/tokyo23.json'\n",
    "    geojson = gpd.read_file(geojson_path)\n",
    "    map = folium.Map(location=[36, 140], tiles='cartodbpositron', zoom_start=9)\n",
    "    folium.Choropleth(geo_data=geojson, name='choropleth').add_to(map)\n",
    "    return map"
   ]
  },
  {
   "cell_type": "code",
   "execution_count": 5,
   "id": "06808525-56e3-4223-9832-15be32cda3de",
   "metadata": {},
   "outputs": [],
   "source": [
    "def get_tokyo_yamanote_line_map(df):\n",
    "    map_tokyo = folium.Map(location=[35.6828387, 139.7594549], zoom_start=12)\n",
    "    for lat, lng, label in zip(df['lat'], df['lon'], df['station']):\n",
    "        label = folium.Popup(label, parse_html=True)\n",
    "        folium.Circle(\n",
    "            [lat, lng],\n",
    "            radius=700,\n",
    "            popup=label,\n",
    "            color='blue',\n",
    "            fill=True,\n",
    "            fill_color='#3186cc',\n",
    "            fill_opacity=0.2,\n",
    "            parse_html=False).add_to(map_tokyo)\n",
    "    return map_tokyo"
   ]
  },
  {
   "cell_type": "code",
   "execution_count": 9,
   "id": "f5c407c3-2482-4de7-b969-15a183f9e2e1",
   "metadata": {},
   "outputs": [],
   "source": [
    "df = pd.read_pickle('../data/tokyo_yamanote_line.pkl')\n",
    "# corrections\n",
    "# TODO: tokyo akihabara\n",
    "df.loc[df.station == 'Shinagawa', 'lat'] = 35.628611\n",
    "df.loc[df.station == 'Shinagawa', 'lon'] = 139.739167\n",
    "df.loc[df.station == 'Ebisu', 'lat'] = 35.646643\n",
    "df.loc[df.station == 'Ebisu', 'lon'] = 139.710045\n",
    "df.loc[df.station == 'Shibuya', 'lat'] = 35.658514\n",
    "df.loc[df.station == 'Shibuya', 'lon'] = 139.70133\n",
    "df.loc[df.station == 'Gotanda', 'lat'] = 35.62645\n",
    "df.loc[df.station == 'Gotanda', 'lon'] = 139.7234\n",
    "df.loc[df.station == 'Meguro', 'lat'] = 35.633983\n",
    "df.loc[df.station == 'Meguro', 'lon'] = 139.716\n",
    "map = get_tokyo_yamanote_line_map(df)\n",
    "#map"
   ]
  },
  {
   "cell_type": "markdown",
   "id": "975fde82-3b83-4e38-a88b-338d2f9d55a9",
   "metadata": {
    "pycharm": {
     "name": "#%% md\n"
    }
   },
   "source": [
    "![alt text](image.png \"Title\")"
   ]
  },
  {
   "cell_type": "code",
   "execution_count": null,
   "id": "84e4ee66-4c4e-41ad-ba44-a4bd2ae8642d",
   "metadata": {},
   "outputs": [],
   "source": []
  }
 ],
 "metadata": {
  "kernelspec": {
   "display_name": "Python 3 (ipykernel)",
   "language": "python",
   "name": "python3"
  },
  "language_info": {
   "codemirror_mode": {
    "name": "ipython",
    "version": 3
   },
   "file_extension": ".py",
   "mimetype": "text/x-python",
   "name": "python",
   "nbconvert_exporter": "python",
   "pygments_lexer": "ipython3",
   "version": "3.9.12"
  }
 },
 "nbformat": 4,
 "nbformat_minor": 5
}